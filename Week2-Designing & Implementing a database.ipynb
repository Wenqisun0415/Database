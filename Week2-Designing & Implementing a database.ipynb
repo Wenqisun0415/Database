{
 "cells": [
  {
   "cell_type": "markdown",
   "metadata": {},
   "source": [
    "# Case study\n",
    "\n",
    "## Designing a database\n",
    "\n",
    "* Our company sells many products. About each product we record its id, name and price.\n",
    "* We have many customers. About each customer we record their customer id, name and address.\n",
    "* Customers place orders for products. Each order is placed by one customer on a particular date. Over time a customer may place several orders, though some may register but not place any orders.\n",
    "* Each order must contain at least one order-item, but many contain several. Each order-item records a quantity ordered of one product.\n",
    "\n",
    "Conceptual data model:\n",
    "\n",
    "<img src=\"img/img07.png\" width=\"500\">\n",
    "\n",
    "If we didn't include the order-item entity, there will be a many-to-many relationship between order and product. For a relational database, there can not be many-to-many relationships.\n",
    "\n",
    "Logical data model:\n",
    "\n",
    "<img src=\"img/img08.png\" width=\"500\">\n",
    "\n",
    "Physical model:\n",
    "\n",
    "<img src=\"img/img09.png\" width=\"500\">\n",
    "\n",
    "Compared with logical data model, physical model contains data types for each attribute.\n",
    "\n",
    "## Implementing the database\n",
    "\n",
    "Creating tables can be done in several ways:\n",
    "1. Manual DDL(data definition language) commands\n",
    "2. SQL \"setup script\"\n",
    "<img src=\"img/img10.png\" width=\"300\">\n",
    "3. Forward engineer from MySQL Workbench and similar tools\n",
    "\n",
    "Inserting data can be done in the following ways:\n",
    "1. Manual insert commands\n",
    "2. SQL script file\n",
    "<img src=\"img/img11.png\" width=\"300\">\n",
    "3. Insert in Workbench model\n",
    "4. via application software\n",
    "\n",
    "Query the data\n",
    "<img src=\"img/img12.png\" width=\"500\">\n",
    "\n",
    "<img src=\"img/img13.png\" width=\"500\">\n",
    "\n",
    "order is a keyword in SQL, therefore we need to add `` around the word.\n",
    "\n",
    "For a table like the following\n",
    "<img src=\"img/img14.png\" width=\"300\">\n",
    "If we need to know how many orders does each customer make, we can use group.\n",
    "<img src=\"img/img15.png\" width=\"300\">\n",
    "We can also use the command\n",
    "<img src=\"img/img16.png\" width=\"300\">"
   ]
  },
  {
   "cell_type": "code",
   "execution_count": null,
   "metadata": {
    "collapsed": true
   },
   "outputs": [],
   "source": []
  }
 ],
 "metadata": {
  "kernelspec": {
   "display_name": "Python 3",
   "language": "python",
   "name": "python3"
  },
  "language_info": {
   "codemirror_mode": {
    "name": "ipython",
    "version": 3
   },
   "file_extension": ".py",
   "mimetype": "text/x-python",
   "name": "python",
   "nbconvert_exporter": "python",
   "pygments_lexer": "ipython3",
   "version": "3.6.0"
  }
 },
 "nbformat": 4,
 "nbformat_minor": 2
}

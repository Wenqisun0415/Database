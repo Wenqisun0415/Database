{
 "cells": [
  {
   "cell_type": "markdown",
   "metadata": {},
   "source": [
    "# Intro to database\n",
    "\n",
    "Entities(tables in database) might be people, things, events, transactions...\n",
    "\n",
    "We can use entity-relationship diagrams to represent database.\n",
    "\n",
    "A database for Facebook:\n",
    "\n",
    "<img src=\"img/img01.png\" width=\"500\">\n",
    "Each entity is a table. And for each table, each attribute of the entity is a column. For each row in a table, we need a unique identifier. For the User table, it's the Username and for the Post table, it's the id.\n",
    "\n",
    "The entity-relationship diagram:\n",
    "\n",
    "<img src=\"img/img02.png\" width=\"500\">\n",
    "\n",
    "There are $4$ things we can do with table:\n",
    "1. CREATE a table\n",
    "2. DROP(delete) a table\n",
    "3. ALTER a table(e.g. add a column)\n",
    "4. RENAME a table\n",
    "\n",
    "We can manipulate the contents of tables, by:\n",
    "1. SELECT(read) data from table\n",
    "2. INSERT new rows into table\n",
    "3. DELETE existing rows from the table\n",
    "4. UPDATE existing rows in the table\n",
    "\n",
    "To control users' access to the tables, $4$ things we can do:\n",
    "1. CREATE a user\n",
    "2. DROP a user\n",
    "3. GRANT a user access rights to a table\n",
    "4. REVOKE those rights\n",
    "\n",
    "Database lifecycle:\n",
    "* Design the database, data modeling, E-R diagrams\n",
    "* Implement the database(data definition language, i.e. things do with table)\n",
    "* Data access/programming(data manipulation language, i.e. things do with contents of tables)\n",
    "* Database administration(data control language)\n",
    "\n",
    "Data modeling:\n",
    "* What are the entities that need to be tracked?\n",
    "* What attributes will be recorded about each entity?\n",
    "* What are the relationships between entities?\n",
    "* What are the cardinalities(which represent how many entities of one kind relate to how many entities of another kind) of relationships?\n",
    "\n",
    "# Intro to MySQL\n",
    "\n",
    "Creating an E-R diagram\n",
    "\n",
    "<img src=\"img/img03.png\" width=\"500\">\n",
    "\n",
    "Creating tables\n",
    "\n",
    "<img src=\"img/img04.png\" width=\"500\">\n",
    "\n",
    "Manipulating data\n",
    "\n",
    "<img src=\"img/img05.png\" width=\"500\">\n",
    "\n",
    "Reading data\n",
    "\n",
    "<img src=\"img/img06.png\" width=\"500\">"
   ]
  },
  {
   "cell_type": "code",
   "execution_count": null,
   "metadata": {
    "collapsed": true
   },
   "outputs": [],
   "source": []
  }
 ],
 "metadata": {
  "kernelspec": {
   "display_name": "Python 3",
   "language": "python",
   "name": "python3"
  },
  "language_info": {
   "codemirror_mode": {
    "name": "ipython",
    "version": 3
   },
   "file_extension": ".py",
   "mimetype": "text/x-python",
   "name": "python",
   "nbconvert_exporter": "python",
   "pygments_lexer": "ipython3",
   "version": "3.6.0"
  }
 },
 "nbformat": 4,
 "nbformat_minor": 2
}
